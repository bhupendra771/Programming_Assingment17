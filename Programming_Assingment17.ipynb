{
 "cells": [
  {
   "cell_type": "code",
   "execution_count": 1,
   "id": "efde8b98",
   "metadata": {},
   "outputs": [],
   "source": [
    "# Question1. Create a function that takes three arguments a, b, c and returns the sum of the numbers that are evenly divided by c from the range a, b inclusive.\n",
    "# Examples\n",
    "# evenly_divisible(1, 10, 20) ➞ 0\n",
    "# # No number between 1 and 10 can be evenly divided by 20.\n",
    "\n",
    "# evenly_divisible(1, 10, 2) ➞ 30\n",
    "# # 2 + 4 + 6 + 8 + 10 = 30\n",
    "\n",
    "# evenly_divisible(1, 10, 3) ➞ 18\n",
    "# # 3 + 6 + 9 = 18\n",
    "def evenly_divisible(a, b ,c):\n",
    "    if c < b and c > a:\n",
    "        s = 0\n",
    "        for i in range(a,b):\n",
    "            if i*c<=b:               \n",
    "                print(i*c)          \n",
    "            \n",
    "                    \n",
    "    else:\n",
    "        print(\"No number between {0} and {1} can be evenly divided by {2}\".format(a,b,c ))\n",
    "\n",
    "        \n",
    "        \n",
    "            \n",
    "            \n",
    "            \n"
   ]
  },
  {
   "cell_type": "code",
   "execution_count": 2,
   "id": "aab634b8",
   "metadata": {},
   "outputs": [
    {
     "data": {
      "text/plain": [
       "False"
      ]
     },
     "execution_count": 2,
     "metadata": {},
     "output_type": "execute_result"
    }
   ],
   "source": [
    "# Question2. Create a function that returns True if a given inequality expression is correct and False otherwise.\n",
    "# Examples\n",
    "# correct_signs(\"3 < 7 < 11\") ➞ True\n",
    "\n",
    "# correct_signs(\"13 > 44 > 33 > 1\") ➞ False\n",
    "\n",
    "# correct_signs(\"1 < 2 < 6 < 9 > 3\") ➞ True\n",
    "\n",
    "def correct_signs(exp):\n",
    "    if exp == True:\n",
    "        return True\n",
    "    elif exp == False:\n",
    "        return False\n",
    "\n",
    "correct_signs(13 > 44 > 33 > 1)"
   ]
  },
  {
   "cell_type": "code",
   "execution_count": null,
   "id": "bd1692dd",
   "metadata": {},
   "outputs": [],
   "source": []
  },
  {
   "cell_type": "code",
   "execution_count": 3,
   "id": "2d8aaad7",
   "metadata": {},
   "outputs": [],
   "source": [
    "# Question3. Create a function that replaces all the vowels in a string with a specified character.\n",
    "# Examples\n",
    "# replace_vowels(\"the aardvark\", \"#\") ➞ \"th# ##rdv#rk\"\n",
    "\n",
    "# replace_vowels(\"minnie mouse\", \"?\") ➞ \"m?nn?? m??s?\"\n",
    "\n",
    "# replace_vowels(\"shakespeare\", \"*\") ➞ \"sh*k*sp**r*\"\n",
    "\n",
    "def replace_vowels(str1, str2):\n",
    "    for i in str1:\n",
    "#         print(i)\n",
    "        if i == \"a\" or i == \"e\" or i == \"i\" or i == \"o\" or i == \"u\":\n",
    "#             print(i)\n",
    "            str1 = str1.replace(i ,str2)       \n",
    "        \n",
    "    return (str1.replace(i ,str2))\n",
    "\n"
   ]
  },
  {
   "cell_type": "code",
   "execution_count": 4,
   "id": "d94f399a",
   "metadata": {},
   "outputs": [
    {
     "data": {
      "text/plain": [
       "'m?nn?? m??s?'"
      ]
     },
     "execution_count": 4,
     "metadata": {},
     "output_type": "execute_result"
    }
   ],
   "source": [
    "replace_vowels(\"minnie mouse\", \"?\")"
   ]
  },
  {
   "cell_type": "code",
   "execution_count": 23,
   "id": "cbf1d413",
   "metadata": {},
   "outputs": [
    {
     "data": {
      "text/plain": [
       "24"
      ]
     },
     "execution_count": 23,
     "metadata": {},
     "output_type": "execute_result"
    }
   ],
   "source": [
    "# Question4. Write a function that calculates the factorial of a number recursively.\n",
    "# Examples\n",
    "# factorial(5) ➞ 120\n",
    "\n",
    "# factorial(3) ➞ 6\n",
    "\n",
    "# factorial(1) ➞ 1\n",
    "\n",
    "# factorial(0) ➞ 1\n",
    "def factorial(n):\n",
    "\n",
    "    if n ==1 :\n",
    "        return 1\n",
    "   \n",
    "    \n",
    "    return n*factorial(n-1)\n",
    "\n",
    "factorial(4)\n",
    "\n"
   ]
  },
  {
   "cell_type": "code",
   "execution_count": 48,
   "id": "03bb8f7f",
   "metadata": {},
   "outputs": [
    {
     "data": {
      "text/plain": [
       "1"
      ]
     },
     "execution_count": 48,
     "metadata": {},
     "output_type": "execute_result"
    }
   ],
   "source": [
    "# Question 5\n",
    "# Hamming distance is the number of characters that differ between two strings.\n",
    "# To illustrate:\n",
    "# String1: \"abcbba\"\n",
    "# String2: \"abcbda\"\n",
    "\n",
    "# Hamming Distance: 1 - \"b\" vs. \"d\" is the only difference.\n",
    "# Create a function that computes the hamming distance between two strings.\n",
    "# Examples\n",
    "# hamming_distance(\"abcde\", \"bcdef\") ➞ 5\n",
    "\n",
    "# hamming_distance(\"abcde\", \"abcde\") ➞ 0\n",
    "\n",
    "# hamming_distance(\"strong\", \"strung\") ➞ 1\n",
    "def hamming_distance(n1,n2):\n",
    "    \n",
    "    count =0\n",
    "    for i in range(len(n1)):                       \n",
    "       \n",
    "        if n1[i]!= n2[i]:\n",
    "            count +=1\n",
    "            \n",
    "        \n",
    "\n",
    "        \n",
    "       \n",
    "       \n",
    "               \n",
    "    return count\n",
    "\n",
    "hamming_distance('strong','strung')\n"
   ]
  },
  {
   "cell_type": "code",
   "execution_count": 34,
   "id": "4cd08131",
   "metadata": {},
   "outputs": [
    {
     "name": "stdout",
     "output_type": "stream",
     "text": [
      "d\n",
      "d\n",
      "d\n",
      "d\n",
      "d\n"
     ]
    }
   ],
   "source": []
  },
  {
   "cell_type": "code",
   "execution_count": null,
   "id": "10b7df65",
   "metadata": {},
   "outputs": [],
   "source": []
  },
  {
   "cell_type": "code",
   "execution_count": null,
   "id": "e85fce4b",
   "metadata": {},
   "outputs": [],
   "source": []
  },
  {
   "cell_type": "code",
   "execution_count": null,
   "id": "54fb1b1a",
   "metadata": {},
   "outputs": [],
   "source": []
  },
  {
   "cell_type": "code",
   "execution_count": null,
   "id": "995437ba",
   "metadata": {},
   "outputs": [],
   "source": []
  },
  {
   "cell_type": "code",
   "execution_count": null,
   "id": "3c0de5bb",
   "metadata": {},
   "outputs": [],
   "source": []
  },
  {
   "cell_type": "code",
   "execution_count": null,
   "id": "c667232a",
   "metadata": {},
   "outputs": [],
   "source": []
  }
 ],
 "metadata": {
  "kernelspec": {
   "display_name": "Python 3 (ipykernel)",
   "language": "python",
   "name": "python3"
  },
  "language_info": {
   "codemirror_mode": {
    "name": "ipython",
    "version": 3
   },
   "file_extension": ".py",
   "mimetype": "text/x-python",
   "name": "python",
   "nbconvert_exporter": "python",
   "pygments_lexer": "ipython3",
   "version": "3.10.4"
  }
 },
 "nbformat": 4,
 "nbformat_minor": 5
}
